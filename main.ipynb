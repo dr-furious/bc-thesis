{
 "cells": [
  {
   "cell_type": "markdown",
   "source": [
    "# Main file"
   ],
   "metadata": {
    "collapsed": false
   },
   "id": "b65590ab2df4ef76"
  },
  {
   "cell_type": "markdown",
   "source": [
    "Imports:"
   ],
   "metadata": {
    "collapsed": false
   },
   "id": "41759744244e47c1"
  },
  {
   "cell_type": "code",
   "outputs": [],
   "source": [
    "# Import\n",
    "from src.data.crop_rois import image_rois_from_coco_json\n",
    "from src.visualization.image_viewer import image_viewer\n",
    "from src.data.normalize import normalize\n",
    "from src.data.use_grabcut import use_grabcut_on_all\n",
    "from src.visualization.fg_viewer import fg_viewer\n",
    "from src.data.clean_data import remove_blackened_images\n",
    "from src.data.increase_contrast import power_law_transform_all\n",
    "from src.data.apply_clahe import apply_clahe_on_all"
   ],
   "metadata": {
    "collapsed": false
   },
   "id": "b649894dfc6da192",
   "execution_count": null
  },
  {
   "cell_type": "markdown",
   "source": [
    "Paths"
   ],
   "metadata": {
    "collapsed": false
   },
   "id": "89dcfb1b198690fb"
  },
  {
   "cell_type": "code",
   "outputs": [],
   "source": [
    "image_name = \"TCGA-A1-A0SK-01Z-00-DX1.A44D70FA-4D96-43F4-9DD7-A61535786297_[22877, 12530, 24892, 13993].png\"\n",
    "image_name_tissue = \"100B_[10779, 11621, 12102, 12874].png\"\n",
    "\n",
    "image_path_bcss = f\"./data/raw/tiger-datasets/wsirois/roi-level-annotations/tissue-bcss/images/{image_name}\"\n",
    "label_path_bcss = f\"./data/raw/tiger-datasets/wsirois/roi-level-annotations/tissue-bcss/masks/{image_name}\"\n",
    "\n",
    "image_path_tissue = f\"./data/raw/tiger-datasets/wsirois/roi-level-annotations/tissue-cells/images/{image_name_tissue}\"\n",
    "label_path_tissue = f\"./data/raw/tiger-datasets/wsirois/roi-level-annotations/tissue-cells/masks/{image_name_tissue}\"\n",
    "\n",
    "path_to_images = \"./data/raw/tiger-datasets/wsirois/roi-level-annotations/tissue-cells/\"\n",
    "path_to_coco_json = \"./data/raw/tiger-datasets/wsirois/roi-level-annotations/tissue-cells/tiger-coco.json\"\n",
    "\n",
    "path_to_images_cut = \"./data/processed/normalized_images\"\n",
    "\n",
    "output_img_cropped_dir = \"data/processed/cropped_cell_rois\"\n",
    "output_img_blackened = \"data/processed/bin/blackened\"\n",
    "output_img_transformed = \"data/processed/power_law_transformed\"\n",
    "output_img_clahe = \"data/processed/after_clahe\"\n",
    "output_img_grabcut_masks_dir = \"data/processed/grab_cut_masks\""
   ],
   "metadata": {
    "collapsed": false
   },
   "id": "4cbe66df128a7906",
   "execution_count": null
  },
  {
   "cell_type": "markdown",
   "source": [
    "## View Tissue Labels"
   ],
   "metadata": {
    "collapsed": false
   },
   "id": "de8cb73fddb1967c"
  },
  {
   "cell_type": "code",
   "outputs": [],
   "source": [
    "image_viewer(image_path_tissue, label_path_tissue, None)"
   ],
   "metadata": {
    "collapsed": false
   },
   "id": "4a1e7d97a7e65b38",
   "execution_count": null
  },
  {
   "cell_type": "markdown",
   "source": [
    "## Normalize Images"
   ],
   "metadata": {
    "collapsed": false
   },
   "id": "5d3b9bc79357136a"
  },
  {
   "cell_type": "code",
   "outputs": [],
   "source": [
    "# Normalize H&C images using Macenko normalization\n",
    "normalize(json_path=path_to_coco_json, img_dir=path_to_images, output_img_dir=path_to_images_cut)"
   ],
   "metadata": {
    "collapsed": false
   },
   "id": "6c1296c38ae52174",
   "execution_count": null
  },
  {
   "cell_type": "markdown",
   "source": [
    "## Cut out Single-cell ROIs"
   ],
   "metadata": {
    "collapsed": false
   },
   "id": "a8133bdb81abb109"
  },
  {
   "cell_type": "code",
   "outputs": [],
   "source": [
    "# Crop ROIS from image using COCO JSON annotations\n",
    "image_rois_from_coco_json(json_path=path_to_coco_json,\n",
    "                          image_dir=path_to_images_cut,\n",
    "                          output_dir=output_img_cropped_dir, limit=5000)"
   ],
   "metadata": {
    "collapsed": false
   },
   "id": "dec6ce3ac4cd62e3",
   "execution_count": null
  },
  {
   "cell_type": "markdown",
   "source": [
    "## Remove Imges With Black Artifacts"
   ],
   "metadata": {
    "collapsed": false
   },
   "id": "41fdb7ce03f17ac1"
  },
  {
   "cell_type": "code",
   "outputs": [],
   "source": [
    "# Remove black artifacts from images\n",
    "remove_blackened_images(image_dir=output_img_cropped_dir, threshold=16/256,bin_dir=output_img_blackened)"
   ],
   "metadata": {
    "collapsed": false
   },
   "id": "a353db33c404f70e",
   "execution_count": null
  },
  {
   "cell_type": "markdown",
   "source": [
    "## Apply CLAHE\n",
    "Apply Contrast Limited Adaptive Histogram Equalization on all single-cell images"
   ],
   "metadata": {
    "collapsed": false
   },
   "id": "ceb4c8b1e8bae68b"
  },
  {
   "cell_type": "code",
   "outputs": [],
   "source": [
    "apply_clahe_on_all(image_dir=output_img_cropped_dir, output_dir=output_img_clahe, clip_limit=100, tile_grid_size=(1, 1))"
   ],
   "metadata": {
    "collapsed": false
   },
   "id": "3ab9c59570419aa8",
   "execution_count": null
  },
  {
   "cell_type": "markdown",
   "source": [
    "## Increase Image contrast"
   ],
   "metadata": {
    "collapsed": false
   },
   "id": "b2b47adfa09df344"
  },
  {
   "cell_type": "code",
   "outputs": [],
   "source": [
    "# Increase image contract\n",
    "power_law_transform_all(image_dir=output_img_clahe, output_dir=output_img_transformed, gamma=2)"
   ],
   "metadata": {
    "collapsed": false
   },
   "id": "6570a7c1580c881c",
   "execution_count": null
  },
  {
   "cell_type": "markdown",
   "source": [
    "## Use GrabCut"
   ],
   "metadata": {
    "collapsed": false
   },
   "id": "c81f98572beae5f4"
  },
  {
   "cell_type": "code",
   "execution_count": null,
   "id": "initial_id",
   "metadata": {
    "collapsed": true
   },
   "outputs": [],
   "source": [
    "# Call GrabCut algorithm\n",
    "use_grabcut_on_all(image_folder=output_img_clahe, output_dir=output_img_grabcut_masks_dir, brightest_pixels_bg=100)"
   ]
  },
  {
   "cell_type": "markdown",
   "source": [
    "## Visualize GrabCut Result on Sample Image"
   ],
   "metadata": {
    "collapsed": false
   },
   "id": "c1c8b848a7ac33f1"
  },
  {
   "cell_type": "code",
   "outputs": [],
   "source": [
    "# Visualize grabCut results \n",
    "img_paths = [\"100B_[21444, 12438, 22739, 13618]_-_87_1107_18_18\",\n",
    "             \"100B_[21444, 12438, 22739, 13618]_-_334_921_18_18\",\n",
    "             \"100B_[21444, 12438, 22739, 13618]_-_26_1037_18_18\",\n",
    "             \"100B_[21444, 12438, 22739, 13618]_-_238_869_18_18\",\n",
    "             \"100B_[21444, 12438, 22739, 13618]_-_92_962_18_18\",\n",
    "             \"100B_[21444, 12438, 22739, 13618]_-_614_652_18_18\",\n",
    "             \"100B_[21444, 12438, 22739, 13618]_-_847_311_18_18\",\n",
    "             \"114S_[33188, 13944, 34412, 15110]_-_734_555_18_18\",\n",
    "             \"240S_[24479, 20283, 25702, 21462]_-_-5_426_18_18\",\n",
    "             \"240S_[24479, 20283, 25702, 21462]_-_249_693_18_18\",\n",
    "             \"TC_S01_P000039_C0001_B101_[40952, 65918, 42147, 67085]_-_-6_979_16_16\",\n",
    "             \"TCGA-A2-A0SX-01Z-00-DX1.219A994C-8974-4458-98FA-FB1F14868E04_[28040, 28721, 28184, 28865]_-_130_3_16_16\",\n",
    "             \"TCGA-D8-A143-01Z-00-DX1.4697FB2F-91D5-4506-AF23-7DE304D44A3F_[29665, 10119, 29804, 10257]_-_14_115_16_16\",\n",
    "             \"TCGA-GM-A2DF-01Z-00-DX1.CD0BE6D7-2DB3-4193-84CC-F9BE7BF18CC2_[25432, 23287, 25577, 23427]_-_130_85_16_16\",\n",
    "             \"234B_[11212, 22952, 12503, 24148]_-_223_687_18_18\",\n",
    "             \"240S_[24479, 20283, 25702, 21462]_-_1149_773_18_18\",\n",
    "             \"TC_S01_P000003_C0001_B104_[50106, 52730, 51199, 53794]_-_199_909_16_16\",\n",
    "             \"TC_S01_P000030_C0001_B208_[32772, 84782, 34072, 85924]_-_419_23_16_16\",\n",
    "             \"TC_S01_P000159_C0001_B108_[24174, 49952, 25340, 51105]_-_809_149_16_16\",\n",
    "             \"TCGA-A7-A6VW-01Z-00-DX1.1BC4790C-DB45-4A3D-9C97-92C92C03FF60_[34923, 9391, 35062, 9535]_-_71_1_16_16\",\n",
    "             \"TCGA-D8-A1JF-01Z-00-DX1.224EDA43-F822-4A88-814A-BA7D4C60F8CC_[13581, 28214, 13719, 28356]_-_95_52_16_16\",\n",
    "             \"TCGA-E2-A1L7-01Z-00-DX1.BE796CD2-2E81-44E8-8CA2-85B4D2A31B64_[28838, 8479, 28982, 8609]_-_128_49_16_16\",\n",
    "             \"TCGA-EW-A6SB-01Z-00-DX1.D56E1922-01A9-4AEE-AB95-D69447DD13EE_[19482, 30838, 19623, 30984]_-_48_75_16_16\"]\n",
    "for img_path in img_paths:\n",
    "    print(img_path)\n",
    "    fg_viewer(f\"{output_img_cropped_dir}/{img_path}.png\",\n",
    "              f\"{output_img_grabcut_masks_dir}/{img_path}.png\")"
   ],
   "metadata": {
    "collapsed": false
   },
   "id": "10101785e36666e8",
   "execution_count": null
  },
  {
   "cell_type": "code",
   "outputs": [],
   "source": [],
   "metadata": {
    "collapsed": false
   },
   "id": "15ecfe73eded6ff7",
   "execution_count": null
  },
  {
   "cell_type": "code",
   "outputs": [],
   "source": [],
   "metadata": {
    "collapsed": false
   },
   "id": "ab5cbffe44e2f4b1",
   "execution_count": null
  }
 ],
 "metadata": {
  "kernelspec": {
   "display_name": "Python 3",
   "language": "python",
   "name": "python3"
  },
  "language_info": {
   "codemirror_mode": {
    "name": "ipython",
    "version": 2
   },
   "file_extension": ".py",
   "mimetype": "text/x-python",
   "name": "python",
   "nbconvert_exporter": "python",
   "pygments_lexer": "ipython2",
   "version": "2.7.6"
  }
 },
 "nbformat": 4,
 "nbformat_minor": 5
}
