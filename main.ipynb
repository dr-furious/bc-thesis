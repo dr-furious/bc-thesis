{
 "cells": [
  {
   "cell_type": "markdown",
   "source": [
    "# Main file"
   ],
   "metadata": {
    "collapsed": false
   },
   "id": "b65590ab2df4ef76"
  },
  {
   "cell_type": "markdown",
   "source": [
    "Imports:"
   ],
   "metadata": {
    "collapsed": false
   },
   "id": "41759744244e47c1"
  },
  {
   "cell_type": "code",
   "outputs": [],
   "source": [
    "# Import\n",
    "from src.data.crop_rois import image_rois_from_coco_json\n",
    "from src.visualization.image_viewer import image_viewer\n",
    "from src.data.normalize import normalize\n",
    "from src.data.use_grabcut import use_grabcut_on_all\n",
    "from src.visualization.fg_viewer import fg_viewer"
   ],
   "metadata": {
    "collapsed": false
   },
   "id": "b649894dfc6da192"
  },
  {
   "cell_type": "markdown",
   "source": [
    "Paths"
   ],
   "metadata": {
    "collapsed": false
   },
   "id": "89dcfb1b198690fb"
  },
  {
   "cell_type": "code",
   "outputs": [],
   "source": [
    "image_name = \"TCGA-A1-A0SK-01Z-00-DX1.A44D70FA-4D96-43F4-9DD7-A61535786297_[22877, 12530, 24892, 13993].png\"\n",
    "image_path_bcss = f\"./data/raw/tiger-datasets/wsirois/roi-level-annotations/tissue-bcss/images/{image_name}\"\n",
    "label_path_bcss = f\"./data/raw/tiger-datasets/wsirois/roi-level-annotations/tissue-bcss/masks/{image_name}\"\n",
    "\n",
    "path_to_images = \"./data/raw/tiger-datasets/wsirois/roi-level-annotations/tissue-cells/\"\n",
    "path_to_coco_json = \"./data/raw/tiger-datasets/wsirois/roi-level-annotations/tissue-cells/tiger-coco.json\"\n",
    "\n",
    "path_to_images_cut = \"./data/processed/normalized_images\"\n",
    "\n",
    "output_img_cropped_dir = \"data/processed/cropped_cell_rois\"\n",
    "output_img_grabcut_masks_dir = \"data/processed/grab_cut_masks\""
   ],
   "metadata": {
    "collapsed": false
   },
   "id": "4cbe66df128a7906"
  },
  {
   "cell_type": "markdown",
   "source": [
    "## View Tissue Labels"
   ],
   "metadata": {
    "collapsed": false
   },
   "id": "de8cb73fddb1967c"
  },
  {
   "cell_type": "code",
   "outputs": [],
   "source": [
    "image_viewer(image_path_bcss, label_path_bcss, None)"
   ],
   "metadata": {
    "collapsed": false
   },
   "id": "4a1e7d97a7e65b38"
  },
  {
   "cell_type": "markdown",
   "source": [
    "## Normalize Images"
   ],
   "metadata": {
    "collapsed": false
   },
   "id": "5d3b9bc79357136a"
  },
  {
   "cell_type": "code",
   "outputs": [],
   "source": [
    "# Normalize H&C images using Macenko normalization\n",
    "normalize(json_path=path_to_coco_json, img_dir=path_to_images, output_img_dir=\"data/processed/normalized_images/\")"
   ],
   "metadata": {
    "collapsed": false
   },
   "id": "6c1296c38ae52174"
  },
  {
   "cell_type": "markdown",
   "source": [
    "## Cut out Single-cell ROIs"
   ],
   "metadata": {
    "collapsed": false
   },
   "id": "a8133bdb81abb109"
  },
  {
   "cell_type": "code",
   "outputs": [],
   "source": [
    "# Crop ROIS from image using COCO JSON annotations\n",
    "image_rois_from_coco_json(json_path=path_to_coco_json,\n",
    "                          image_dir=path_to_images_cut,\n",
    "                          output_dir=output_img_cropped_dir, limit=5000)"
   ],
   "metadata": {
    "collapsed": false
   },
   "id": "dec6ce3ac4cd62e3"
  },
  {
   "cell_type": "markdown",
   "source": [
    "## Use GrabCut"
   ],
   "metadata": {
    "collapsed": false
   },
   "id": "c81f98572beae5f4"
  },
  {
   "cell_type": "code",
   "execution_count": null,
   "id": "initial_id",
   "metadata": {
    "collapsed": true
   },
   "outputs": [],
   "source": [
    "# Call GrabCut algorithm\n",
    "use_grabcut_on_all(image_folder=output_img_cropped_dir, output_dir=output_img_grabcut_masks_dir, iterations_count=20)"
   ]
  },
  {
   "cell_type": "markdown",
   "source": [
    "## Visualize GrabCut Result on Sample Image"
   ],
   "metadata": {
    "collapsed": false
   },
   "id": "c1c8b848a7ac33f1"
  },
  {
   "cell_type": "code",
   "outputs": [],
   "source": [
    "# Visualize grabCut results\n",
    "fg_viewer(f\"{output_img_cropped_dir}/100B_[21444, 12438, 22739, 13618]_-_183_1051_18_18.png\",\n",
    "          f\"{output_img_grabcut_masks_dir}/100B_[21444, 12438, 22739, 13618]_-_183_1051_18_18.png\")"
   ],
   "metadata": {
    "collapsed": false
   },
   "id": "10101785e36666e8"
  }
 ],
 "metadata": {
  "kernelspec": {
   "display_name": "Python 3",
   "language": "python",
   "name": "python3"
  },
  "language_info": {
   "codemirror_mode": {
    "name": "ipython",
    "version": 2
   },
   "file_extension": ".py",
   "mimetype": "text/x-python",
   "name": "python",
   "nbconvert_exporter": "python",
   "pygments_lexer": "ipython2",
   "version": "2.7.6"
  }
 },
 "nbformat": 4,
 "nbformat_minor": 5
}
